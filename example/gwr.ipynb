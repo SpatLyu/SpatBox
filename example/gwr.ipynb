{
 "cells": [
  {
   "cell_type": "code",
   "execution_count": 1,
   "metadata": {},
   "outputs": [],
   "source": [
    "import pandas as pd\n",
    "import spatbox as stx \n",
    "from spatbox.analysis.GWR.sel import SearchGWRParameter\n",
    "from spatbox.analysis.GWR.model import GWR"
   ]
  },
  {
   "cell_type": "code",
   "execution_count": 2,
   "metadata": {},
   "outputs": [
    {
     "data": {
      "text/html": [
       "<div>\n",
       "<style scoped>\n",
       "    .dataframe tbody tr th:only-of-type {\n",
       "        vertical-align: middle;\n",
       "    }\n",
       "\n",
       "    .dataframe tbody tr th {\n",
       "        vertical-align: top;\n",
       "    }\n",
       "\n",
       "    .dataframe thead th {\n",
       "        text-align: right;\n",
       "    }\n",
       "</style>\n",
       "<table border=\"1\" class=\"dataframe\">\n",
       "  <thead>\n",
       "    <tr style=\"text-align: right;\">\n",
       "      <th></th>\n",
       "      <th>longitude</th>\n",
       "      <th>latitude</th>\n",
       "      <th>t</th>\n",
       "      <th>x1</th>\n",
       "      <th>x2</th>\n",
       "      <th>y</th>\n",
       "    </tr>\n",
       "  </thead>\n",
       "  <tbody>\n",
       "    <tr>\n",
       "      <th>0</th>\n",
       "      <td>0</td>\n",
       "      <td>0</td>\n",
       "      <td>0</td>\n",
       "      <td>0.771321</td>\n",
       "      <td>0.895098</td>\n",
       "      <td>10.656550</td>\n",
       "    </tr>\n",
       "    <tr>\n",
       "      <th>1</th>\n",
       "      <td>1</td>\n",
       "      <td>0</td>\n",
       "      <td>0</td>\n",
       "      <td>0.020752</td>\n",
       "      <td>0.633729</td>\n",
       "      <td>5.692754</td>\n",
       "    </tr>\n",
       "    <tr>\n",
       "      <th>2</th>\n",
       "      <td>2</td>\n",
       "      <td>0</td>\n",
       "      <td>0</td>\n",
       "      <td>0.633648</td>\n",
       "      <td>0.462768</td>\n",
       "      <td>7.634701</td>\n",
       "    </tr>\n",
       "    <tr>\n",
       "      <th>3</th>\n",
       "      <td>3</td>\n",
       "      <td>0</td>\n",
       "      <td>0</td>\n",
       "      <td>0.748804</td>\n",
       "      <td>0.090788</td>\n",
       "      <td>7.755446</td>\n",
       "    </tr>\n",
       "    <tr>\n",
       "      <th>4</th>\n",
       "      <td>4</td>\n",
       "      <td>0</td>\n",
       "      <td>0</td>\n",
       "      <td>0.498507</td>\n",
       "      <td>0.982153</td>\n",
       "      <td>9.351118</td>\n",
       "    </tr>\n",
       "    <tr>\n",
       "      <th>...</th>\n",
       "      <td>...</td>\n",
       "      <td>...</td>\n",
       "      <td>...</td>\n",
       "      <td>...</td>\n",
       "      <td>...</td>\n",
       "      <td>...</td>\n",
       "    </tr>\n",
       "    <tr>\n",
       "      <th>1723</th>\n",
       "      <td>7</td>\n",
       "      <td>11</td>\n",
       "      <td>11</td>\n",
       "      <td>0.289875</td>\n",
       "      <td>0.741360</td>\n",
       "      <td>33.618013</td>\n",
       "    </tr>\n",
       "    <tr>\n",
       "      <th>1724</th>\n",
       "      <td>8</td>\n",
       "      <td>11</td>\n",
       "      <td>11</td>\n",
       "      <td>0.921317</td>\n",
       "      <td>0.962916</td>\n",
       "      <td>43.053358</td>\n",
       "    </tr>\n",
       "    <tr>\n",
       "      <th>1725</th>\n",
       "      <td>9</td>\n",
       "      <td>11</td>\n",
       "      <td>11</td>\n",
       "      <td>0.222337</td>\n",
       "      <td>0.055764</td>\n",
       "      <td>8.844119</td>\n",
       "    </tr>\n",
       "    <tr>\n",
       "      <th>1726</th>\n",
       "      <td>10</td>\n",
       "      <td>11</td>\n",
       "      <td>11</td>\n",
       "      <td>0.633053</td>\n",
       "      <td>0.825171</td>\n",
       "      <td>27.932650</td>\n",
       "    </tr>\n",
       "    <tr>\n",
       "      <th>1727</th>\n",
       "      <td>11</td>\n",
       "      <td>11</td>\n",
       "      <td>11</td>\n",
       "      <td>0.057299</td>\n",
       "      <td>0.872990</td>\n",
       "      <td>16.931481</td>\n",
       "    </tr>\n",
       "  </tbody>\n",
       "</table>\n",
       "<p>1728 rows × 6 columns</p>\n",
       "</div>"
      ],
      "text/plain": [
       "      longitude  latitude   t        x1        x2          y\n",
       "0             0         0   0  0.771321  0.895098  10.656550\n",
       "1             1         0   0  0.020752  0.633729   5.692754\n",
       "2             2         0   0  0.633648  0.462768   7.634701\n",
       "3             3         0   0  0.748804  0.090788   7.755446\n",
       "4             4         0   0  0.498507  0.982153   9.351118\n",
       "...         ...       ...  ..       ...       ...        ...\n",
       "1723          7        11  11  0.289875  0.741360  33.618013\n",
       "1724          8        11  11  0.921317  0.962916  43.053358\n",
       "1725          9        11  11  0.222337  0.055764   8.844119\n",
       "1726         10        11  11  0.633053  0.825171  27.932650\n",
       "1727         11        11  11  0.057299  0.872990  16.931481\n",
       "\n",
       "[1728 rows x 6 columns]"
      ]
     },
     "execution_count": 2,
     "metadata": {},
     "output_type": "execute_result"
    }
   ],
   "source": [
    "data = pd.read_csv(stx.utils.get_path('example'))\n",
    "data "
   ]
  },
  {
   "cell_type": "code",
   "execution_count": 3,
   "metadata": {},
   "outputs": [],
   "source": [
    "coords = data[['longitude', 'latitude']]\n",
    "t = data[['t']]\n",
    "X = data[['x1', 'x2']]\n",
    "y = data[['y']]"
   ]
  },
  {
   "cell_type": "code",
   "execution_count": 4,
   "metadata": {},
   "outputs": [
    {
     "name": "stdout",
     "output_type": "stream",
     "text": [
      "bw: 15.0 , score: 18778.49\n",
      "bw: 10.0 , score: 18764.75\n",
      "bw: 6.0 , score: 18699.21\n",
      "bw: 4.0 , score: 18506.22\n",
      "bw: 2.0 , score: 17786.86\n",
      "bw: 2.0 , score: 17786.86\n",
      "time cost: 0:00:1.097\n"
     ]
    }
   ],
   "source": [
    "sel = SearchGWRParameter(coords, X, y, kernel='gaussian', fixed=True)\n",
    "bw = sel.search(bw_max=40, verbose=True, time_cost=True)"
   ]
  },
  {
   "cell_type": "code",
   "execution_count": 5,
   "metadata": {},
   "outputs": [
    {
     "name": "stdout",
     "output_type": "stream",
     "text": [
      "0.5935790327517999\n"
     ]
    }
   ],
   "source": [
    "gwr = GWR(coords, X, y, bw, kernel='gaussian', fixed=True).fit()\n",
    "print(gwr.R2)"
   ]
  },
  {
   "cell_type": "code",
   "execution_count": null,
   "metadata": {},
   "outputs": [],
   "source": []
  }
 ],
 "metadata": {
  "kernelspec": {
   "display_name": "pygis",
   "language": "python",
   "name": "python3"
  },
  "language_info": {
   "codemirror_mode": {
    "name": "ipython",
    "version": 3
   },
   "file_extension": ".py",
   "mimetype": "text/x-python",
   "name": "python",
   "nbconvert_exporter": "python",
   "pygments_lexer": "ipython3",
   "version": "3.9.16"
  },
  "orig_nbformat": 4,
  "vscode": {
   "interpreter": {
    "hash": "2a91b28d9301ce04d4210f17e723eb4560388df2b1e295590a09e39176fbacf5"
   }
  }
 },
 "nbformat": 4,
 "nbformat_minor": 2
}
